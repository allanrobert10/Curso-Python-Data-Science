{
 "cells": [
  {
   "cell_type": "code",
   "execution_count": null,
   "id": "6ed7b49d",
   "metadata": {},
   "outputs": [],
   "source": [
    "# Calculadora em Python\n",
    "\n",
    "# Desenvolva uma calculadora em Python com tudo que você aprendeu nos capítulos até aqui no curso. "
   ]
  },
  {
   "cell_type": "code",
   "execution_count": null,
   "id": "e7165c40",
   "metadata": {
    "scrolled": true
   },
   "outputs": [],
   "source": [
    "print(\"\\n******************* Calculadora em Python *******************\\n\")\n",
    "\n",
    "# perguntar qual o tipo de operação\n",
    "# de acordo com o tipo de operação fazer o resultado\n",
    "# para soma\n",
    "# para subtração\n",
    "# para multiplicação \n",
    "# para divisão\n",
    "\n",
    "def calculadora():\n",
    "    operacao = input('Informe o tipo de operação: ')\n",
    "    x = operacao.upper()\n",
    "    num1 = float(input('Informe o primeiro número: '))\n",
    "    num2 = float(input('Informe o segundo número: '))\n",
    "    \n",
    "    if x == 'SOMA' or x == '+':\n",
    "        resultado = num1 + num2\n",
    "        print(resultado)\n",
    "    elif x == 'SUBTRAÇÃO' or x == 'SUBTRACAO' or x == '-':\n",
    "        resultado = num1 - num2\n",
    "        print(resultado)\n",
    "    elif x == 'MULTIPLICAÇÃO' or x == 'MULTIPLICACAO' or x == '*':\n",
    "        resultado = num1 * num2\n",
    "        print(resultado)\n",
    "    elif x == 'DIVISÃO' or x == 'DIVISAO' or x == '/':\n",
    "        resultado = num1 / num2\n",
    "        print(resultado)\n",
    "    else:\n",
    "        print('Opção Inválida')\n",
    "\n",
    "calculadora()\n"
   ]
  },
  {
   "cell_type": "code",
   "execution_count": 1,
   "id": "8e07cd03",
   "metadata": {
    "scrolled": false
   },
   "outputs": [
    {
     "name": "stdout",
     "output_type": "stream",
     "text": [
      "Selecione o número da operação desejada: \n",
      "\n",
      "1 - Soma \n",
      "2 - Subtração \n",
      "3 - Multiplicação \n",
      "4 - Divisão\n",
      "Digite sua opção (1/2/3/4): 5\n",
      "Informe o primeiro número: 1\n",
      "Informe o segundo número: 2\n",
      "Opção Inválida\n"
     ]
    }
   ],
   "source": [
    "def calculadora_2():\n",
    "    print('Selecione o número da operação desejada: ')\n",
    "    print('\\n1 - Soma \\n2 - Subtração \\n3 - Multiplicação \\n4 - Divisão')\n",
    "    opcao = int(input('Digite sua opção (1/2/3/4): '))\n",
    "\n",
    "    num1 = float(input('Informe o primeiro número: '))\n",
    "    num2 = float(input('Informe o segundo número: '))\n",
    "    \n",
    "    if opcao == 1:\n",
    "        resultado = num1 + num2\n",
    "        print(resultado)\n",
    "    elif opcao == 2:\n",
    "        resultado = num1 - num2\n",
    "        print(resultado)\n",
    "    elif opcao == 3:\n",
    "        resultado = num1 * num2\n",
    "        print(resultado)\n",
    "    elif opcao == 4:\n",
    "        resultado = num1 / num2\n",
    "        print(resultado)\n",
    "    else:\n",
    "        print('Opção Inválida')\n",
    "\n",
    "calculadora_2()"
   ]
  },
  {
   "cell_type": "code",
   "execution_count": null,
   "id": "c53b68e8",
   "metadata": {},
   "outputs": [],
   "source": []
  },
  {
   "cell_type": "code",
   "execution_count": null,
   "id": "0d136307",
   "metadata": {},
   "outputs": [],
   "source": []
  }
 ],
 "metadata": {
  "kernelspec": {
   "display_name": "Python 3 (ipykernel)",
   "language": "python",
   "name": "python3"
  },
  "language_info": {
   "codemirror_mode": {
    "name": "ipython",
    "version": 3
   },
   "file_extension": ".py",
   "mimetype": "text/x-python",
   "name": "python",
   "nbconvert_exporter": "python",
   "pygments_lexer": "ipython3",
   "version": "3.10.9"
  }
 },
 "nbformat": 4,
 "nbformat_minor": 5
}
